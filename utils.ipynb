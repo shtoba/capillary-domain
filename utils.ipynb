{
 "cells": [
  {
   "cell_type": "code",
   "execution_count": 77,
   "metadata": {
    "ExecuteTime": {
     "end_time": "2020-01-25T20:25:35.711026Z",
     "start_time": "2020-01-25T20:25:35.706047Z"
    }
   },
   "outputs": [],
   "source": [
    "%matplotlib inline\n",
    "\n",
    "import math\n",
    "import numpy as np\n",
    "import matplotlib.pyplot as plt\n",
    "import matplotlib.cm as cm\n",
    "import matplotlib.ticker as ticker\n",
    "import pandas as pd\n",
    "import random\n",
    "import collections\n",
    "import pprint\n",
    "import sys\n",
    "from io import StringIO\n",
    "from statistics import stdev, mean"
   ]
  },
  {
   "cell_type": "code",
   "execution_count": 1,
   "metadata": {
    "ExecuteTime": {
     "end_time": "2020-01-26T04:52:55.741057Z",
     "start_time": "2020-01-26T04:52:55.732785Z"
    }
   },
   "outputs": [],
   "source": [
    "# Second ver. 200124\n",
    "\n",
    "def points_to_lines(points):\n",
    "    all_lines = []\n",
    "\n",
    "    field_borders = [{'id': 'bottom', 'a': 0, 'b': 1, 'c': -field_min_y},\n",
    "                     {'id': 'top', 'a': 0, 'b': 1, 'c': -field_max_y},\n",
    "                     {'id': 'left', 'a': 1, 'b': 0, 'c': -field_min_x},\n",
    "                     {'id': 'right', 'a': 1, 'b': 0, 'c': -field_max_x}]\n",
    "\n",
    "\n",
    "    for i, p1 in enumerate(points):\n",
    "        lines_tmp = []\n",
    "\n",
    "        other_points = points.copy()\n",
    "        other_points.remove(p1)\n",
    "\n",
    "        for p2 in other_points:\n",
    "            dict_tmp = {'id': [i, points.index(p2)]}\n",
    "\n",
    "            a = (p2[0] - p1[0])\n",
    "            b = (p2[1] - p1[1])\n",
    "            c = - (p2[0]**2 - p1[0]**2 + p2[1]**2 - p1[1]**2) / 2\n",
    "\n",
    "            dict_tmp['a'] = a\n",
    "            dict_tmp['b'] = b\n",
    "            dict_tmp['c'] = c\n",
    "\n",
    "            lines_tmp.append(dict_tmp)\n",
    "\n",
    "        lines_tmp.extend(field_borders)\n",
    "        all_lines.append(lines_tmp)\n",
    "    \n",
    "    return all_lines"
   ]
  },
  {
   "cell_type": "code",
   "execution_count": 79,
   "metadata": {
    "ExecuteTime": {
     "end_time": "2020-01-25T20:25:36.903328Z",
     "start_time": "2020-01-25T20:25:36.898810Z"
    }
   },
   "outputs": [],
   "source": [
    "def get_intersection(line1, line2):\n",
    "    if line1['a'] * line2['b'] == line2['a'] * line1['b']:\n",
    "        return\n",
    "    else:\n",
    "        x = (\n",
    "            ((line1['b'] * line2['c']) - (line2['b'] * line1['c']))\n",
    "            / ((line1['a'] * line2['b']) - (line2['a'] * line1['b']))\n",
    "        )\n",
    "\n",
    "        y = (\n",
    "            ((line2['a'] * line1['c']) - (line1['a'] * line2['c']))\n",
    "            / ((line1['a'] * line2['b']) - (line2['a'] * line1['b']))\n",
    "        )\n",
    "\n",
    "        dict_tmp = {'x': x, 'y': y}\n",
    "    \n",
    "        return dict_tmp"
   ]
  },
  {
   "cell_type": "code",
   "execution_count": 80,
   "metadata": {
    "ExecuteTime": {
     "end_time": "2020-01-25T20:25:37.589935Z",
     "start_time": "2020-01-25T20:25:37.587113Z"
    }
   },
   "outputs": [],
   "source": [
    "def get_y(line, x):\n",
    "    if line['b'] == 0:\n",
    "        return\n",
    "    else:\n",
    "        return -(line['a'] * x + line['c']) / line['b']"
   ]
  },
  {
   "cell_type": "code",
   "execution_count": 2,
   "metadata": {
    "ExecuteTime": {
     "end_time": "2020-01-26T04:54:25.592330Z",
     "start_time": "2020-01-26T04:54:25.587779Z"
    },
    "scrolled": true
   },
   "outputs": [],
   "source": [
    "def lines_to_intersections(all_lines):\n",
    "    all_intersections = []\n",
    "    \n",
    "    # for each point\n",
    "    for k, lines in enumerate(all_lines):\n",
    "        intersections_tmp = []\n",
    "        lines_done = []\n",
    "        \n",
    "        # for each line\n",
    "        for line1 in lines:    \n",
    "            other_lines = lines.copy()\n",
    "            \n",
    "            lines_done.append(line1)\n",
    "            for l_done in lines_done:\n",
    "                other_lines.remove(l_done)\n",
    "            \n",
    "            for line2 in other_lines:\n",
    "                intxn = get_intersection(line1, line2)\n",
    "                if intxn:\n",
    "                    dict_tmp = {'id': [line1['id'], line2['id']]}\n",
    "                    dict_tmp.update(intxn)\n",
    "                    intersections_tmp.append(dict_tmp)\n",
    "        \n",
    "        all_intersections.append(intersections_tmp)\n",
    "            \n",
    "    return all_intersections"
   ]
  },
  {
   "cell_type": "code",
   "execution_count": 11,
   "metadata": {
    "ExecuteTime": {
     "end_time": "2020-01-26T05:28:41.692496Z",
     "start_time": "2020-01-26T05:28:41.680743Z"
    }
   },
   "outputs": [],
   "source": [
    "def get_nearest_intersections(points, all_lines, all_intersections, show=False, show_count=True):\n",
    "    if show_count: print('*** get_nearest_intersections() ***')\n",
    "    nearest_intersections = []\n",
    "    \n",
    "    for point_id, intersections in enumerate(all_intersections):\n",
    "        if show:\n",
    "            print('*** Point id:', point_id)\n",
    "        else:\n",
    "            if show_count: print('\\rPoint id: {} / {}'.format(point_id+1, len(points)), end='')\n",
    "            \n",
    "        p = points[point_id]\n",
    "        nearest_intersections_tmp = []\n",
    "        \n",
    "        for intxn in intersections:\n",
    "            if show: print('    Intxn:', intxn)\n",
    "            line_to_intxn = {'a': intxn['y'] - p[1],\n",
    "                             'b': p[0] - intxn['x'],\n",
    "                             'c': (intxn['x'] - p[0]) * p[1] - (intxn['y'] - p[1]) * p[0]}\n",
    "            \n",
    "            lines = [l for l in all_lines[point_id] if not l['id'] in intxn['id']]\n",
    "            \n",
    "            add_to_list = True\n",
    "            \n",
    "            for line in lines:\n",
    "                if show: print('        Line:', line)\n",
    "                intxn_new = get_intersection(line, line_to_intxn)\n",
    "                if show: print('          intxn_new:', intxn_new, end='')\n",
    "                \n",
    "                if intxn_new:\n",
    "                    min_x = min(p[0], intxn['x'])\n",
    "                    max_x = max(p[0], intxn['x'])\n",
    "                    min_y = min(p[1], intxn['y'])\n",
    "                    max_y = max(p[1], intxn['y'])\n",
    "\n",
    "                    if min_x <= intxn_new['x'] <= max_x and min_y <= intxn_new['y'] <= max_y:\n",
    "                        if intxn_new['y'] == intxn['y'] and intxn_new['x'] == intxn['x']:\n",
    "                            if show: print(' On the line')\n",
    "                        else:\n",
    "                            if show: print(' NG')\n",
    "                            add_to_list = False\n",
    "                    else:\n",
    "                        if show: print('')\n",
    "                else:\n",
    "                    if show: print('')\n",
    "            \n",
    "            if add_to_list:\n",
    "                existing_intxn_list = [[a['x'], a['y']] for a in nearest_intersections_tmp]\n",
    "                if [intxn['x'], intxn['y']] in existing_intxn_list:\n",
    "                    if show: print('        -> NG (Already exists)', end='\\n\\n')\n",
    "                else:\n",
    "                    if show: print('        -> OK', end='\\n\\n')\n",
    "                    nearest_intersections_tmp.append(intxn)\n",
    "            else:\n",
    "                if show: print('        -> NG (Not nearest)', end='\\n\\n')\n",
    "    \n",
    "        nearest_intersections.append(nearest_intersections_tmp)\n",
    "        if show: pprint.pprint(nearest_intersections_tmp)\n",
    "        if show: print('')\n",
    "\n",
    "    return nearest_intersections"
   ]
  },
  {
   "cell_type": "code",
   "execution_count": 83,
   "metadata": {
    "ExecuteTime": {
     "end_time": "2020-01-25T20:25:40.110128Z",
     "start_time": "2020-01-25T20:25:40.107502Z"
    }
   },
   "outputs": [],
   "source": [
    "def get_unique_list(seq):\n",
    "    seen = []\n",
    "    return [x for x in seq if x not in seen and not seen.append(x)]"
   ]
  },
  {
   "cell_type": "code",
   "execution_count": 4,
   "metadata": {
    "ExecuteTime": {
     "end_time": "2020-01-26T04:56:37.066210Z",
     "start_time": "2020-01-26T04:56:37.060742Z"
    },
    "scrolled": true
   },
   "outputs": [],
   "source": [
    "def get_line_segments(nearest_intersections, show=False):\n",
    "    if show: print('')\n",
    "    if show: print('*** get_line_segments() ***')\n",
    "\n",
    "    segments = []\n",
    "    \n",
    "    nearest_intersections = organize_intersections(nearest_intersections)\n",
    "    \n",
    "    for point_id, intxns in enumerate(nearest_intersections):\n",
    "        if show: print('')\n",
    "        if show: print('*** Point id:', point_id)\n",
    "        segments_tmp = []\n",
    "        \n",
    "        intxns.append(intxns[0])\n",
    "        \n",
    "        for i in range(len(intxns) - 1):\n",
    "            x1 = intxns[i]['x']\n",
    "            x2 = intxns[i+1]['x']\n",
    "            y1 = intxns[i]['y']\n",
    "            y2 = intxns[i+1]['y']\n",
    "            \n",
    "            if show: print('    segment:({}, {}) - ({}, {})'.format(x1, y1, x2, y2))\n",
    "            \n",
    "            segments_tmp.append({'x1': x1, 'y1': y1, 'x2': x2, 'y2': y2})\n",
    "            \n",
    "        segments.append(segments_tmp)\n",
    "    \n",
    "    return segments"
   ]
  },
  {
   "cell_type": "code",
   "execution_count": 5,
   "metadata": {
    "ExecuteTime": {
     "end_time": "2020-01-26T04:57:26.007720Z",
     "start_time": "2020-01-26T04:57:26.001413Z"
    },
    "scrolled": true
   },
   "outputs": [],
   "source": [
    "def organize_intersections(nearest_intersections):\n",
    "    intxns_new = []\n",
    "        \n",
    "    for point_id, intxns in enumerate(nearest_intersections):\n",
    "        intxns.sort(key=lambda i: i['x'])\n",
    "        first = intxns[0]\n",
    "        last = intxns[-1]\n",
    "        \n",
    "        line = {'a': first['y'] - last['y'],\n",
    "                'b': last['x'] - first['x'],\n",
    "                'c': (first['x'] - last['x']) * last['y'] - (first['y'] - last['y']) * last['x']}\n",
    "        \n",
    "        unders = []\n",
    "        overs = []\n",
    "        \n",
    "        saved_coords = []\n",
    "        \n",
    "        for intx in intxns:\n",
    "            if not [intx['x'], intx['y']] in saved_coords:\n",
    "                saved_coords.append([intx['x'], intx['y']])\n",
    "                if intx['y'] > get_y(line, intx['x']):\n",
    "                    overs.append(intx)\n",
    "                else:\n",
    "                    unders.append(intx)\n",
    "        \n",
    "        unders = unders[::-1]\n",
    "        overs.extend(unders)\n",
    "        \n",
    "        intxns_new.append(overs)\n",
    "                \n",
    "    return intxns_new"
   ]
  },
  {
   "cell_type": "code",
   "execution_count": 6,
   "metadata": {
    "ExecuteTime": {
     "end_time": "2020-01-26T04:58:33.468412Z",
     "start_time": "2020-01-26T04:58:33.451627Z"
    }
   },
   "outputs": [],
   "source": [
    "def plot(points, all_lines, nearest_intersections, segments, simple=False, fill=False):\n",
    "    plt.xlim(field_min_x, field_max_x)\n",
    "    plt.ylim(field_min_y, field_max_y)\n",
    "    \n",
    "    coord_x = [x[0] for x in points]\n",
    "    coord_y = [x[1] for x in points]\n",
    "    \n",
    "    colors = cm.gist_rainbow(np.linspace(0, 1, len(points)))\n",
    "    \n",
    "    delta_ratio = 0.02\n",
    "    delta_x = np.array([(x[0]-(field_max_x-field_min_x)/2)*delta_ratio for x in points])\n",
    "    delta_y = np.array([(x[1]-(field_max_y-field_min_y)/2)*delta_ratio for x in points])\n",
    "    \n",
    "    if not simple:\n",
    "        for point_id, lines in enumerate(all_lines):\n",
    "            for line in lines:\n",
    "                if line['b'] == 0:\n",
    "                    plt.plot([-line['c'] / line['a'], -line['c'] / line['a']],\n",
    "                             [field_min_y, field_max_y],\n",
    "                             c='tab:gray',\n",
    "                             linewidth=0.1)\n",
    "                else:\n",
    "                    plt.plot([field_min_x, field_max_x],\n",
    "                             [get_y(line, field_min_x), get_y(line, field_max_x)],\n",
    "                             c='tab:gray',\n",
    "                             linewidth=0.1)\n",
    "\n",
    "        \n",
    "    if not simple:\n",
    "        for point_id, intxn in enumerate(nearest_intersections):\n",
    "            #rnd_value = np.array([random_value[point_id] for i in range(len(intxn))])\n",
    "            rnd_value_x = np.array([delta_x[point_id] for i in range(len(intxn))])\n",
    "            rnd_value_y = np.array([delta_y[point_id] for i in range(len(intxn))])\n",
    "            coord_x_intxn = np.array([x['x'] for x in intxn])\n",
    "            coord_y_intxn = np.array([x['y'] for x in intxn])\n",
    "            plt.scatter(coord_x_intxn + rnd_value_x, coord_y_intxn + rnd_value_y,\n",
    "                        c=[colors[point_id]],\n",
    "                        #alpha=1,\n",
    "                        edgecolors=[colors[point_id]],\n",
    "                        clip_on=False,\n",
    "                        s=50)\n",
    "    \n",
    "    for point_id, segs in enumerate(segments):\n",
    "        if point_id == 7 or True:\n",
    "            for seg in segs:\n",
    "                if simple:\n",
    "                    plt.plot([seg['x1'],\n",
    "                              seg['x2']],\n",
    "                             [seg['y1'],\n",
    "                              seg['y2']],\n",
    "                             c=colors[point_id], clip_on=False, alpha=0.6, linewidth=2)\n",
    "                    \n",
    "                else:\n",
    "                    plt.plot([seg['x1'] + delta_x[point_id],\n",
    "                              seg['x2'] + delta_x[point_id]],\n",
    "                             [seg['y1'] + delta_y[point_id],\n",
    "                              seg['y2'] + delta_y[point_id]],\n",
    "                             c=colors[point_id], clip_on=False, alpha=0.6, linewidth=2)\n",
    "                    \n",
    "    if fill:\n",
    "        nearest_intersections = organize_intersections(nearest_intersections)\n",
    "        for point_id, intxns in enumerate(nearest_intersections):\n",
    "            coords = [[i['x'], i['y']] for i in intxns]\n",
    "            tmp = plt.Polygon(coords, fc=colors[point_id], alpha=0.15)\n",
    "            plt.gca().add_patch(tmp)\n",
    "                \n",
    "    for i in range(len(points)):\n",
    "        plt.scatter(coord_x[i], coord_y[i], c=[colors[i]], marker='o', s=100, label=i)     \n",
    "        \n",
    "    plt.legend(bbox_to_anchor=[1.2,1], ncol=len(points)//13+1)\n",
    "        \n",
    "    plt.show()\n",
    "    plt.close()"
   ]
  },
  {
   "cell_type": "code",
   "execution_count": 7,
   "metadata": {
    "ExecuteTime": {
     "end_time": "2020-01-26T04:58:51.207148Z",
     "start_time": "2020-01-26T04:58:51.199773Z"
    }
   },
   "outputs": [],
   "source": [
    "def calculate_areas(nearest_intersections):\n",
    "    areas_list = []\n",
    "    \n",
    "    nearest_intersections = organize_intersections(nearest_intersections)\n",
    "    \n",
    "    for point_id, intxns in enumerate(nearest_intersections):\n",
    "        x = [i['x'] for i in intxns]\n",
    "        y = [i['y'] for i in intxns]\n",
    "        \n",
    "        area = 0.5*np.abs(np.dot(x,np.roll(y,1))-np.dot(y,np.roll(x,1)))\n",
    "        \n",
    "        areas_list.append(area)\n",
    "        \n",
    "    field = (field_max_x - field_min_x) * (field_max_y - field_min_y) / 1000 / 1000\n",
    "    cap_dens = len(nearest_intersections) / field\n",
    "    \n",
    "    areas = np.array(areas_list)\n",
    "    radius = np.sqrt(areas / np.pi)\n",
    "    radius_sd = stdev(radius)\n",
    "    \n",
    "    radius_log = np.log10(radius)\n",
    "    radius_log_sd = stdev(radius_log)\n",
    "    \n",
    "    plt.hist(radius)\n",
    "    plt.xlabel('Radius')\n",
    "    plt.ylabel('Frequency')\n",
    "    plt.gca().get_yaxis().set_major_locator(ticker.MaxNLocator(integer=True))\n",
    "    plt.show()\n",
    "    plt.close()\n",
    "    \n",
    "    print('Density (No./mm2)    :', cap_dens)\n",
    "    print('Mean radius (um)     :', mean(radius))\n",
    "    print('SD radius (um)       :', radius_sd)\n",
    "    print('Mean log radius (um) :', mean(radius_log))\n",
    "    print('SD log radius (x1000):', radius_log_sd * 1000)\n",
    "\n",
    "    results = np.stack([areas, radius, radius_log], 1)\n",
    "    df = pd.DataFrame(results, columns=['area', 'radius', 'radius_log'])\n",
    "    \n",
    "    return df"
   ]
  },
  {
   "cell_type": "code",
   "execution_count": 8,
   "metadata": {
    "ExecuteTime": {
     "end_time": "2020-01-26T04:58:52.235249Z",
     "start_time": "2020-01-26T04:58:52.232421Z"
    }
   },
   "outputs": [],
   "source": [
    "def get_distance(p1, p2):\n",
    "    return math.sqrt((p1[0] - p2[0])**2 + (p1[1] - p2[1])**2)"
   ]
  },
  {
   "cell_type": "code",
   "execution_count": null,
   "metadata": {},
   "outputs": [],
   "source": []
  }
 ],
 "metadata": {
  "kernelspec": {
   "display_name": "Python 3",
   "language": "python",
   "name": "python3"
  },
  "language_info": {
   "codemirror_mode": {
    "name": "ipython",
    "version": 3
   },
   "file_extension": ".py",
   "mimetype": "text/x-python",
   "name": "python",
   "nbconvert_exporter": "python",
   "pygments_lexer": "ipython3",
   "version": "3.7.4"
  },
  "toc": {
   "base_numbering": 1,
   "nav_menu": {},
   "number_sections": true,
   "sideBar": true,
   "skip_h1_title": false,
   "title_cell": "Table of Contents",
   "title_sidebar": "Contents",
   "toc_cell": false,
   "toc_position": {},
   "toc_section_display": true,
   "toc_window_display": false
  },
  "varInspector": {
   "cols": {
    "lenName": 16,
    "lenType": 16,
    "lenVar": 40
   },
   "kernels_config": {
    "python": {
     "delete_cmd_postfix": "",
     "delete_cmd_prefix": "del ",
     "library": "var_list.py",
     "varRefreshCmd": "print(var_dic_list())"
    },
    "r": {
     "delete_cmd_postfix": ") ",
     "delete_cmd_prefix": "rm(",
     "library": "var_list.r",
     "varRefreshCmd": "cat(var_dic_list()) "
    }
   },
   "types_to_exclude": [
    "module",
    "function",
    "builtin_function_or_method",
    "instance",
    "_Feature"
   ],
   "window_display": false
  }
 },
 "nbformat": 4,
 "nbformat_minor": 2
}
