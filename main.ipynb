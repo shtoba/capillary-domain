{
 "cells": [
  {
   "cell_type": "markdown",
   "metadata": {
    "ExecuteTime": {
     "end_time": "2020-01-25T16:41:48.775015Z",
     "start_time": "2020-01-25T16:41:48.773086Z"
    }
   },
   "source": [
    "# Initialization"
   ]
  },
  {
   "cell_type": "code",
   "execution_count": 43,
   "metadata": {
    "ExecuteTime": {
     "end_time": "2020-01-25T19:54:37.931730Z",
     "start_time": "2020-01-25T19:54:37.879247Z"
    },
    "init_cell": true
   },
   "outputs": [],
   "source": [
    "%run utils.ipynb"
   ]
  },
  {
   "cell_type": "code",
   "execution_count": 19,
   "metadata": {
    "ExecuteTime": {
     "end_time": "2020-01-25T19:38:45.004893Z",
     "start_time": "2020-01-25T19:38:44.998634Z"
    }
   },
   "outputs": [],
   "source": [
    "field_min_x = 0\n",
    "field_max_x = 15\n",
    "field_min_y = 0\n",
    "field_max_y = 10\n",
    "\n",
    "points0 = [[1,5],\n",
    "           [2,2],\n",
    "           [2,8],\n",
    "           [4,8],\n",
    "           [5,1],\n",
    "           [6,6],\n",
    "           [10,4],\n",
    "           [10,6],\n",
    "           [10,8],\n",
    "           [12,9],\n",
    "           [12,1],\n",
    "           [14,6]]\n",
    "\n",
    "points1 = [[2,8],\n",
    "          [10,8],\n",
    "          [6,6]]\n",
    "\n",
    "points2 = [[2,8],\n",
    "          [10,8],\n",
    "          [6,2],\n",
    "          [6,4],\n",
    "          [6,6]]\n",
    "\n",
    "points3 = [[4,3],[4,6],\n",
    "           [8,3],[8,6],\n",
    "           [12,3],[12,6]]\n",
    "\n",
    "points4 = [[1,1],\n",
    "          [1,4],\n",
    "          [4,1],\n",
    "          [4,4],\n",
    "          [2,2],\n",
    "          [3,2]]"
   ]
  },
  {
   "cell_type": "code",
   "execution_count": 20,
   "metadata": {
    "ExecuteTime": {
     "end_time": "2020-01-25T19:38:45.161563Z",
     "start_time": "2020-01-25T19:38:45.158347Z"
    }
   },
   "outputs": [],
   "source": [
    "import random\n",
    "rnd_x = sorted([random.random() * 15 for i in range(50)])\n",
    "rnd_y = [random.random() * 10 for i in range(50)]\n",
    "points5 = [[x, y] for x, y in zip(rnd_x, rnd_y)]"
   ]
  },
  {
   "cell_type": "markdown",
   "metadata": {},
   "source": [
    "# Calculation"
   ]
  },
  {
   "cell_type": "code",
   "execution_count": 21,
   "metadata": {
    "ExecuteTime": {
     "end_time": "2020-01-25T19:38:45.506489Z",
     "start_time": "2020-01-25T19:38:45.500328Z"
    },
    "scrolled": true
   },
   "outputs": [],
   "source": [
    "points = points3\n",
    "\n",
    "all_lines = points_to_lines(points)\n",
    "all_intersections = lines_to_intersections(all_lines)\n",
    "nearest_intersections = get_nearest_intersections(points,\n",
    "                                                  all_lines,\n",
    "                                                  all_intersections,\n",
    "                                                  show=False)\n",
    "segments = get_line_segments(nearest_intersections)"
   ]
  },
  {
   "cell_type": "markdown",
   "metadata": {},
   "source": [
    "# Results"
   ]
  },
  {
   "cell_type": "code",
   "execution_count": 44,
   "metadata": {
    "ExecuteTime": {
     "end_time": "2020-01-25T19:54:39.924442Z",
     "start_time": "2020-01-25T19:54:39.505509Z"
    }
   },
   "outputs": [
    {
     "data": {
      "image/png": "[encoded data removed]",
      "text/plain": [
       "<Figure size 432x288 with 1 Axes>"
      ]
     },
     "metadata": {
      "needs_background": "light"
     },
     "output_type": "display_data"
    },
    {
     "data": {
      "image/png": "[encoded data removed]",
      "text/plain": [
       "<Figure size 432x288 with 1 Axes>"
      ]
     },
     "metadata": {
      "needs_background": "light"
     },
     "output_type": "display_data"
    }
   ],
   "source": [
    "plot(points, all_lines, nearest_intersections, segments)\n",
    "plot(points, all_lines, nearest_intersections, segments, simple=True, fill=True)"
   ]
  },
  {
   "cell_type": "code",
   "execution_count": 45,
   "metadata": {
    "ExecuteTime": {
     "end_time": "2020-01-25T19:54:44.978015Z",
     "start_time": "2020-01-25T19:54:44.971975Z"
    }
   },
   "outputs": [
    {
     "data": {
      "text/plain": [
       "{0: [{'id': [[0, 1], [0, 3]], 'x': 6.0, 'y': 4.5},\n",
       "  {'id': [[0, 2], 'bottom'], 'x': 6.0, 'y': -0.0},\n",
       "  {'id': ['bottom', 'left'], 'x': -0.0, 'y': -0.0},\n",
       "  {'id': [[0, 1], 'left'], 'x': -0.0, 'y': 4.5}],\n",
       " 1: [{'id': ['top', 'left'], 'x': -0.0, 'y': 10.0},\n",
       "  {'id': [[1, 3], 'top'], 'x': 6.0, 'y': 10.0},\n",
       "  {'id': [[1, 0], [1, 2]], 'x': 6.0, 'y': 4.5},\n",
       "  {'id': [[1, 0], 'left'], 'x': 0.0, 'y': 4.5}],\n",
       " 2: [{'id': [[2, 3], [2, 5]], 'x': 10.0, 'y': 4.5},\n",
       "  {'id': [[2, 4], 'bottom'], 'x': 10.0, 'y': -0.0},\n",
       "  {'id': [[2, 0], 'bottom'], 'x': 6.0, 'y': -0.0},\n",
       "  {'id': [[2, 0], [2, 1]], 'x': 6.0, 'y': 4.5}],\n",
       " 3: [{'id': [[3, 1], 'top'], 'x': 6.0, 'y': 10.0},\n",
       "  {'id': [[3, 5], 'top'], 'x': 10.0, 'y': 10.0},\n",
       "  {'id': [[3, 2], [3, 4]], 'x': 10.0, 'y': 4.5},\n",
       "  {'id': [[3, 0], [3, 1]], 'x': 6.0, 'y': 4.5}],\n",
       " 4: [{'id': [[4, 5], 'right'], 'x': 15.0, 'y': 4.5},\n",
       "  {'id': ['bottom', 'right'], 'x': 15.0, 'y': -0.0},\n",
       "  {'id': [[4, 2], 'bottom'], 'x': 10.0, 'y': -0.0},\n",
       "  {'id': [[4, 2], [4, 3]], 'x': 10.0, 'y': 4.5}],\n",
       " 5: [{'id': [[5, 3], 'top'], 'x': 10.0, 'y': 10.0},\n",
       "  {'id': ['top', 'right'], 'x': 15.0, 'y': 10.0},\n",
       "  {'id': [[5, 4], 'right'], 'x': 15.0, 'y': 4.5},\n",
       "  {'id': [[5, 2], [5, 3]], 'x': 10.0, 'y': 4.5}]}"
      ]
     },
     "execution_count": 45,
     "metadata": {},
     "output_type": "execute_result"
    }
   ],
   "source": [
    "organize_intersections(nearest_intersections)"
   ]
  },
  {
   "cell_type": "code",
   "execution_count": 46,
   "metadata": {
    "ExecuteTime": {
     "end_time": "2020-01-25T19:54:48.610066Z",
     "start_time": "2020-01-25T19:54:48.512564Z"
    }
   },
   "outputs": [
    {
     "data": {
      "image/png": "[encoded data removed]",
      "text/plain": [
       "<Figure size 432x288 with 1 Axes>"
      ]
     },
     "metadata": {
      "needs_background": "light"
     },
     "output_type": "display_data"
    },
    {
     "name": "stdout",
     "output_type": "stream",
     "text": [
      "Mean radius     : 2.8078993643036285\n",
      "SD radius       : 0.2968804093328728\n",
      "Mean log radius : 0.4463490721449341\n",
      "SD log radius   : 0.04610077598780031\n"
     ]
    },
    {
     "data": {
      "text/html": [
       "<div>\n",
       "<style scoped>\n",
       "    .dataframe tbody tr th:only-of-type {\n",
       "        vertical-align: middle;\n",
       "    }\n",
       "\n",
       "    .dataframe tbody tr th {\n",
       "        vertical-align: top;\n",
       "    }\n",
       "\n",
       "    .dataframe thead th {\n",
       "        text-align: right;\n",
       "    }\n",
       "</style>\n",
       "<table border=\"1\" class=\"dataframe\">\n",
       "  <thead>\n",
       "    <tr style=\"text-align: right;\">\n",
       "      <th></th>\n",
       "      <th>area</th>\n",
       "      <th>radius</th>\n",
       "      <th>radius_log</th>\n",
       "    </tr>\n",
       "  </thead>\n",
       "  <tbody>\n",
       "    <tr>\n",
       "      <td>0</td>\n",
       "      <td>27.0</td>\n",
       "      <td>2.931615</td>\n",
       "      <td>0.467107</td>\n",
       "    </tr>\n",
       "    <tr>\n",
       "      <td>1</td>\n",
       "      <td>33.0</td>\n",
       "      <td>3.241022</td>\n",
       "      <td>0.510682</td>\n",
       "    </tr>\n",
       "    <tr>\n",
       "      <td>2</td>\n",
       "      <td>18.0</td>\n",
       "      <td>2.393654</td>\n",
       "      <td>0.379061</td>\n",
       "    </tr>\n",
       "    <tr>\n",
       "      <td>3</td>\n",
       "      <td>22.0</td>\n",
       "      <td>2.646284</td>\n",
       "      <td>0.422636</td>\n",
       "    </tr>\n",
       "    <tr>\n",
       "      <td>4</td>\n",
       "      <td>22.5</td>\n",
       "      <td>2.676186</td>\n",
       "      <td>0.427516</td>\n",
       "    </tr>\n",
       "    <tr>\n",
       "      <td>5</td>\n",
       "      <td>27.5</td>\n",
       "      <td>2.958635</td>\n",
       "      <td>0.471091</td>\n",
       "    </tr>\n",
       "  </tbody>\n",
       "</table>\n",
       "</div>"
      ],
      "text/plain": [
       "   area    radius  radius_log\n",
       "0  27.0  2.931615    0.467107\n",
       "1  33.0  3.241022    0.510682\n",
       "2  18.0  2.393654    0.379061\n",
       "3  22.0  2.646284    0.422636\n",
       "4  22.5  2.676186    0.427516\n",
       "5  27.5  2.958635    0.471091"
      ]
     },
     "execution_count": 46,
     "metadata": {},
     "output_type": "execute_result"
    }
   ],
   "source": [
    "#sys.stdout = stdout_backup # print log for get_nearest_intersections()\n",
    "areas = calculate_areas(nearest_intersections)\n",
    "areas"
   ]
  },
  {
   "cell_type": "code",
   "execution_count": null,
   "metadata": {},
   "outputs": [],
   "source": []
  }
 ],
 "metadata": {
  "celltoolbar": "Initialization Cell",
  "kernelspec": {
   "display_name": "Python 3",
   "language": "python",
   "name": "python3"
  },
  "language_info": {
   "codemirror_mode": {
    "name": "ipython",
    "version": 3
   },
   "file_extension": ".py",
   "mimetype": "text/x-python",
   "name": "python",
   "nbconvert_exporter": "python",
   "pygments_lexer": "ipython3",
   "version": "3.7.4"
  },
  "toc": {
   "base_numbering": 1,
   "nav_menu": {},
   "number_sections": true,
   "sideBar": true,
   "skip_h1_title": false,
   "title_cell": "Table of Contents",
   "title_sidebar": "Contents",
   "toc_cell": false,
   "toc_position": {},
   "toc_section_display": true,
   "toc_window_display": true
  },
  "varInspector": {
   "cols": {
    "lenName": 16,
    "lenType": 16,
    "lenVar": 40
   },
   "kernels_config": {
    "python": {
     "delete_cmd_postfix": "",
     "delete_cmd_prefix": "del ",
     "library": "var_list.py",
     "varRefreshCmd": "print(var_dic_list())"
    },
    "r": {
     "delete_cmd_postfix": ") ",
     "delete_cmd_prefix": "rm(",
     "library": "var_list.r",
     "varRefreshCmd": "cat(var_dic_list()) "
    }
   },
   "types_to_exclude": [
    "module",
    "function",
    "builtin_function_or_method",
    "instance",
    "_Feature"
   ],
   "window_display": false
  }
 },
 "nbformat": 4,
 "nbformat_minor": 2
}
