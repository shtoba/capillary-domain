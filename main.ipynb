{
 "cells": [
  {
   "cell_type": "code",
   "execution_count": 1,
   "metadata": {
    "ExecuteTime": {
     "end_time": "2020-01-25T07:08:31.237479Z",
     "start_time": "2020-01-25T07:08:29.406450Z"
    },
    "init_cell": true
   },
   "outputs": [],
   "source": [
    "%run utils.ipynb"
   ]
  },
  {
   "cell_type": "code",
   "execution_count": 2,
   "metadata": {
    "ExecuteTime": {
     "end_time": "2020-01-25T07:08:32.265759Z",
     "start_time": "2020-01-25T07:08:32.253393Z"
    },
    "init_cell": true
   },
   "outputs": [],
   "source": [
    "field_min_x = 0\n",
    "field_max_x = 15\n",
    "field_min_y = 0\n",
    "field_max_y = 10\n",
    "\n",
    "points0 = [[2,2],\n",
    "          [2,8],\n",
    "          [5,1],\n",
    "          [10,8],\n",
    "          [1,5],\n",
    "          [4,8],\n",
    "          [6,6],\n",
    "          [10,4],\n",
    "          [14,6],\n",
    "          [10,6],\n",
    "          [12,9]]\n",
    "\n",
    "points1 = [[2,8],\n",
    "          [10,8],\n",
    "          [6,6]]\n",
    "\n",
    "points2 = [[2,8],\n",
    "          [10,8],\n",
    "          [6,2],\n",
    "          [6,4],\n",
    "          [6,6]]\n",
    "\n",
    "points3 = [[1,1],[1,3],[1,5],[1,7],[1,9],\n",
    "           [3,1],[3,3],[3,5],[3,7],[3,9],\n",
    "           [5,1],[5,3],[5,5],[5,7],[5,9],\n",
    "           [7,1],[7,3],[7,5],[7,7],[7,9],\n",
    "           [9,1],[9,3],[9,5],[9,7],[9,9],\n",
    "           [11,1],[11,3],[11,5],[11,7],[11,9],\n",
    "           [13,1],[13,3],[13,5],[13,7],[13,9]]\n",
    "\n",
    "points4 = [[1,1],\n",
    "          [1,4],\n",
    "          [4,1],\n",
    "          [4,4],\n",
    "          [2,2],\n",
    "          [3,2]]"
   ]
  },
  {
   "cell_type": "code",
   "execution_count": 3,
   "metadata": {
    "ExecuteTime": {
     "end_time": "2020-01-25T07:08:33.384487Z",
     "start_time": "2020-01-25T07:08:33.381567Z"
    }
   },
   "outputs": [],
   "source": [
    "stdout_backup = sys.stdout\n",
    "sys.stdout = StringIO()"
   ]
  },
  {
   "cell_type": "code",
   "execution_count": null,
   "metadata": {
    "ExecuteTime": {
     "start_time": "2020-01-25T07:08:34.680Z"
    },
    "scrolled": true
   },
   "outputs": [],
   "source": [
    "#sys.stdout = stdout_backup # print log for get_nearest_intersections()\n",
    "points = points3\n",
    "\n",
    "all_lines = points_to_lines(points)\n",
    "all_intersections = lines_to_intersections(all_lines)\n",
    "nearest_intersections = get_nearest_intersections(points, all_lines, all_intersections)\n",
    "segments = get_line_segments(nearest_intersections)"
   ]
  },
  {
   "cell_type": "code",
   "execution_count": null,
   "metadata": {
    "ExecuteTime": {
     "start_time": "2020-01-25T07:08:37.509Z"
    }
   },
   "outputs": [],
   "source": [
    "plot(points, all_lines, nearest_intersections, segments)"
   ]
  },
  {
   "cell_type": "code",
   "execution_count": null,
   "metadata": {
    "ExecuteTime": {
     "start_time": "2020-01-25T07:08:38.542Z"
    }
   },
   "outputs": [],
   "source": [
    "areas = calculate_areas(nearest_intersections)\n",
    "areas"
   ]
  },
  {
   "cell_type": "code",
   "execution_count": null,
   "metadata": {},
   "outputs": [],
   "source": []
  }
 ],
 "metadata": {
  "celltoolbar": "Initialization Cell",
  "kernelspec": {
   "display_name": "Python 3",
   "language": "python",
   "name": "python3"
  },
  "language_info": {
   "codemirror_mode": {
    "name": "ipython",
    "version": 3
   },
   "file_extension": ".py",
   "mimetype": "text/x-python",
   "name": "python",
   "nbconvert_exporter": "python",
   "pygments_lexer": "ipython3",
   "version": "3.7.4"
  },
  "toc": {
   "base_numbering": 1,
   "nav_menu": {},
   "number_sections": true,
   "sideBar": true,
   "skip_h1_title": false,
   "title_cell": "Table of Contents",
   "title_sidebar": "Contents",
   "toc_cell": false,
   "toc_position": {},
   "toc_section_display": true,
   "toc_window_display": false
  },
  "varInspector": {
   "cols": {
    "lenName": 16,
    "lenType": 16,
    "lenVar": 40
   },
   "kernels_config": {
    "python": {
     "delete_cmd_postfix": "",
     "delete_cmd_prefix": "del ",
     "library": "var_list.py",
     "varRefreshCmd": "print(var_dic_list())"
    },
    "r": {
     "delete_cmd_postfix": ") ",
     "delete_cmd_prefix": "rm(",
     "library": "var_list.r",
     "varRefreshCmd": "cat(var_dic_list()) "
    }
   },
   "types_to_exclude": [
    "module",
    "function",
    "builtin_function_or_method",
    "instance",
    "_Feature"
   ],
   "window_display": false
  }
 },
 "nbformat": 4,
 "nbformat_minor": 2
}
